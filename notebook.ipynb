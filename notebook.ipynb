{
 "cells": [
  {
   "cell_type": "code",
   "execution_count": 1,
   "id": "160e137e-1094-4ffd-999b-5fe3b0a050f2",
   "metadata": {},
   "outputs": [],
   "source": [
    "# Import des librairies utilisées\n",
    "import pandas as pd\n",
    "import numpy as np\n",
    "import openpyxl\n",
    "import requests\n",
    "import zipfile\n",
    "import io\n",
    "import tempfile\n",
    "import os\n",
    "import shutil\n",
    "import subprocess\n",
    "import sqlite3"
   ]
  },
  {
   "cell_type": "markdown",
   "id": "520ab0db-445f-49f8-b62d-4fdc840e38d6",
   "metadata": {},
   "source": [
    "---\n",
    "**Récupération des données à partir d'URLs**\n",
    "-\n",
    "---"
   ]
  },
  {
   "cell_type": "code",
   "execution_count": 132,
   "id": "77959ac2-c78c-4d09-8697-bacbc242c800",
   "metadata": {},
   "outputs": [
    {
     "name": "stdout",
     "output_type": "stream",
     "text": [
      "Ventes:\n",
      "                                ID_BDD        CUSTOMER_ID  \\\n",
      "0  HZDG8U15NNY7SI6HDK8NMFDEK7MOVUX31VY  CUST-G42Z6WE8QLWJ   \n",
      "1  1H51BRR800TK9DCIH8M9QCRH3LEAR0JWALJ  CUST-CUA37GP8GABQ   \n",
      "2  W6VNWK6ZX0D4QZ545ZD5Y0THWQQDBTXABXO  CUST-NHWI0DGNESYI   \n",
      "3  58EC3JD1TDZZAVQZAW4AHFOUEKTR61ZLB70  CUST-IYXDMN7Q11O4   \n",
      "4  96FE6HA91BRDDF6XRI3O9B83M5PKIXCIXZV  CUST-VR9O54A46EVF   \n",
      "\n",
      "                         id_employe            EAN  Date achat ID ticket  \n",
      "0  b413ca065a762e8cf2e86cfea8b9c174  6473630445822       45518    t_2693  \n",
      "1  a7ada0770091e838e3dcd45265282820  1857802002765       45518    t_4408  \n",
      "2  fa836e3f5faf72d24e079235332169ce  6831886714876       45518    t_3258  \n",
      "3  6c1c3292c852c6c593b95cc146b00c0e  6916826750723       45518    t_1080  \n",
      "4  38680e129f45c49322cb12303b7fb655  7930902861368       45518     t_979  \n",
      "-------------\n",
      "Produits:\n",
      "             EAN                  categorie  Rayon            Libelle_produit  \\\n",
      "0  5026767366043  Produits Secs & Conserves  pates  500g penne rigate panzani   \n",
      "1  1002603715237  Produits Secs & Conserves  pates     500g spaghetti panzani   \n",
      "2  2113941413715  Produits Secs & Conserves  pates   1kg coquillettes panzani   \n",
      "3  2597945667827  Produits Secs & Conserves  pates      1kg spaghetti panzani   \n",
      "4  8046456922921  Produits Secs & Conserves  pates      panzani farfalle 500g   \n",
      "\n",
      "   prix  \n",
      "0  1.24  \n",
      "1  0.84  \n",
      "2  1.73  \n",
      "3  1.53  \n",
      "4  1.22  \n",
      "-------------\n",
      "Clients:\n",
      "         CUSTUMER_ID date_inscription\n",
      "0  CUST-2KYXXXW1NK7I       2023-07-17\n",
      "1  CUST-NR43XRT2PXYG       2023-09-07\n",
      "2  CUST-CH58P8PSVIYU       2021-08-24\n",
      "3  CUST-CI7JQHW4TIYT       2021-12-22\n",
      "4  CUST-3QHP3KL4NPP2       2020-12-20\n",
      "-------------\n",
      "Calendrier:\n",
      "    date  annee  mois       Jour mois_nom  annee_mois  jour_semaine trimestre\n",
      "0  43831   2020     1 1900-01-01  janvier       43831             4        Q1\n",
      "1  43832   2020     1 1900-01-02  janvier       43831             5        Q1\n",
      "2  43833   2020     1 1900-01-03  janvier       43831             6        Q1\n",
      "3  43834   2020     1 1900-01-04  janvier       43831             7        Q1\n",
      "4  43835   2020     1 1900-01-05  janvier       43831             1        Q1\n",
      "-------------\n",
      "Employes:\n",
      "                         id_employe    employe     prenom       nom  \\\n",
      "0  6fa61d0ecae0b563fef18d36b2039c8e     lmaret      Laure     Maret   \n",
      "1  37c6a856b2e14217855d808fbc8e56a7    cvérany  Christian    Vérany   \n",
      "2  4853b03deab973a1a8e466025bce5b52    sdeslys     Solène    Deslys   \n",
      "3  e44eabec860498a79e675200bc8fa455  acoquelin      Amand  Coquelin   \n",
      "4  fa836e3f5faf72d24e079235332169ce  egrosjean   Emmanuel  Grosjean   \n",
      "\n",
      "   date_debut                          hash_mdp                           mail  \n",
      "0       43961  0373c45921fbaa7530f34b39e71ba93c     lmaret@supersmartmarket.fr  \n",
      "1       43894  3e7956190015a301924fb6d7409665a6    cvérany@supersmartmarket.fr  \n",
      "2       44882  45154756438492cd025e3e000781e200    sdeslys@supersmartmarket.fr  \n",
      "3       44380  d0575b3bf61100514cedb05d87a9b689  acoquelin@supersmartmarket.fr  \n",
      "4       45192  3a366362e4c0016df16dbd2cfb6c7e2a  egrosjean@supersmartmarket.fr  \n",
      "-------------\n",
      "Logs:\n",
      "                            id_user   date  action table_insert  \\\n",
      "0  0859b70a9ca905a870bfccc5f8440ba1  45518  INSERT       Client   \n",
      "1  c4f0909120cfde7086a3c1a56e96a015  45518  INSERT       Client   \n",
      "2  dd595f0f0b3400df2908f0be7723dad4  45518  INSERT       Client   \n",
      "3  e44eabec860498a79e675200bc8fa455  45518  INSERT       Client   \n",
      "4  37c6a856b2e14217855d808fbc8e56a7  45518  INSERT       Client   \n",
      "\n",
      "            id_ligne            champs               detail  Unnamed: 7  \n",
      "0  CUST-0P9K9MICI4V3  date_inscription  2024-08-14 00:00:00         NaN  \n",
      "1  CUST-SZ9IS3Q1LBEP  date_inscription  2024-08-14 00:00:00         NaN  \n",
      "2  CUST-L99QEXFV9WTS  date_inscription  2024-08-14 00:00:00         NaN  \n",
      "3  CUST-9SBDRZ728025  date_inscription  2024-08-14 00:00:00         NaN  \n",
      "4  CUST-3F47X2KHYXQM  date_inscription  2024-08-14 00:00:00         NaN  \n"
     ]
    }
   ],
   "source": [
    "data_url = 'https://s3.eu-west-1.amazonaws.com/course.oc-static.com/projects/922_Data+Engineer/922_P4/Copie+de+Extraction+cube+OLAP+-+14+aout+2024.xlsx'\n",
    "ventes = pd.read_excel(data_url, sheet_name='Vente Détail')\n",
    "produits = pd.read_excel(data_url, sheet_name='Produits')\n",
    "clients = pd.read_excel(data_url, sheet_name='Clients')\n",
    "calendrier = pd.read_excel(data_url, sheet_name='Calendrier')\n",
    "employes = pd.read_excel(data_url, sheet_name='Employé')\n",
    "logs = pd.read_excel('https://s3.eu-west-1.amazonaws.com/course.oc-static.com/projects/922_Data+Engineer/922_P4/Logs.xlsx')\n",
    "print('Ventes:')\n",
    "print(ventes.head(5))\n",
    "print('-------------')\n",
    "print('Produits:')\n",
    "print(produits.head(5))\n",
    "print('-------------')\n",
    "print('Clients:')\n",
    "print(clients.head(5))\n",
    "print('-------------')\n",
    "print('Calendrier:')\n",
    "print(calendrier.head(5))\n",
    "print('-------------')\n",
    "print('Employes:')\n",
    "print(employes.head(5))\n",
    "print('-------------')\n",
    "print('Logs:')\n",
    "print(logs.head(5))"
   ]
  },
  {
   "cell_type": "markdown",
   "id": "8bf142df-d9b9-43b7-894d-7c9e52aef4c0",
   "metadata": {},
   "source": [
    "---\n",
    "**Création de la base de données**\n",
    "-\n",
    "---"
   ]
  },
  {
   "cell_type": "code",
   "execution_count": 135,
   "id": "9ad8662c-ec48-4275-b2a1-ebb986c2f08c",
   "metadata": {},
   "outputs": [
    {
     "name": "stdout",
     "output_type": "stream",
     "text": [
      "Created /var/folders/78/_b7dcz_s2x9gjzb3rbnb4wbw0000gn/T/tmpdbkei_28/market.db database\n",
      "\n"
     ]
    }
   ],
   "source": [
    "tmpdir = tempfile.TemporaryDirectory()\n",
    "tmpdirname = tmpdir.name\n",
    "db_path = os.path.join(tmpdirname, 'market.db')\n",
    "proc = subprocess.run([\"./create_db.sh\", db_path], capture_output=True)\n",
    "print(proc.stdout.decode())"
   ]
  },
  {
   "cell_type": "markdown",
   "id": "6d416404-55f9-456c-abd5-0320ea86cbb3",
   "metadata": {},
   "source": [
    "---\n",
    "**Import des données dans la base**\n",
    "-\n",
    "---"
   ]
  },
  {
   "cell_type": "code",
   "execution_count": 138,
   "id": "63b693ce-69d5-4177-8282-dd77cca7f412",
   "metadata": {},
   "outputs": [],
   "source": [
    "# Connexion à la base SQLITE\n",
    "sql_conn = sqlite3.connect(db_path)\n",
    "cur = sql_conn.cursor()"
   ]
  },
  {
   "cell_type": "code",
   "execution_count": 140,
   "id": "0fded3f7-17ae-4813-9e05-2b04f717e3bc",
   "metadata": {},
   "outputs": [
    {
     "data": {
      "text/plain": [
       "1999"
      ]
     },
     "execution_count": 140,
     "metadata": {},
     "output_type": "execute_result"
    }
   ],
   "source": [
    "######## Import du calendrier\n",
    "calendrier[\"Jour\"] = calendrier[\"Jour\"].apply(lambda x: str(x)[8:10])\n",
    "calendrier.rename(columns={'Jour': 'jour', 'date': 'id_date'}, inplace=True)\n",
    "calendrier.to_sql(\n",
    "    name=\"calendrier\",\n",
    "    con=sql_conn,\n",
    "    if_exists=\"append\",\n",
    "    index=False\n",
    ")"
   ]
  },
  {
   "cell_type": "code",
   "execution_count": 142,
   "id": "fa37ef10-ec73-41fc-b44d-e6e61290f3fe",
   "metadata": {},
   "outputs": [
    {
     "data": {
      "text/plain": [
       "2297"
      ]
     },
     "execution_count": 142,
     "metadata": {},
     "output_type": "execute_result"
    }
   ],
   "source": [
    "######## Import des clients\n",
    "clients.rename(columns={'CUSTUMER_ID': 'id_client'}, inplace=True)\n",
    "clients.to_sql(\n",
    "    name=\"clients\",\n",
    "    con=sql_conn,\n",
    "    if_exists=\"append\",\n",
    "    index=False\n",
    ")"
   ]
  },
  {
   "cell_type": "code",
   "execution_count": 144,
   "id": "008f0e67-a666-4824-9136-e10c39916583",
   "metadata": {},
   "outputs": [
    {
     "data": {
      "text/plain": [
       "56"
      ]
     },
     "execution_count": 144,
     "metadata": {},
     "output_type": "execute_result"
    }
   ],
   "source": [
    "######## Import des employés\n",
    "employes.rename(columns={'employe': 'nom_utilisateur'}, inplace=True)\n",
    "employes.to_sql(\n",
    "    name=\"employes\",\n",
    "    con=sql_conn,\n",
    "    if_exists=\"append\",\n",
    "    index=False\n",
    ")"
   ]
  },
  {
   "cell_type": "code",
   "execution_count": 146,
   "id": "cd7186ec-5e3d-46f5-81f9-952f18c4c042",
   "metadata": {},
   "outputs": [
    {
     "data": {
      "text/plain": [
       "18040"
      ]
     },
     "execution_count": 146,
     "metadata": {},
     "output_type": "execute_result"
    }
   ],
   "source": [
    "######## Import des produits\n",
    "produits.rename(columns={'EAN': 'ean', 'Libelle_produit': 'libelle', 'Rayon': 'rayon'}, inplace=True)\n",
    "produits.to_sql(\n",
    "    name=\"produits\",\n",
    "    con=sql_conn,\n",
    "    if_exists=\"append\",\n",
    "    index=False\n",
    ")"
   ]
  },
  {
   "cell_type": "code",
   "execution_count": 148,
   "id": "a7003f64-c11e-430a-80cb-dc44ee29d76c",
   "metadata": {},
   "outputs": [
    {
     "data": {
      "text/plain": [
       "41377"
      ]
     },
     "execution_count": 148,
     "metadata": {},
     "output_type": "execute_result"
    }
   ],
   "source": [
    "######## Import des ventes\n",
    "ventes.rename(\n",
    "    columns={\n",
    "        'EAN': 'ean', 'ID_BDD': 'id_vente', 'CUSTOMER_ID': 'id_client',\n",
    "        'Date achat': 'id_date', 'ID ticket': 'id_ticket'\n",
    "    }\n",
    "    , inplace=True)\n",
    "ventes.to_sql(\n",
    "    name=\"ventes\",\n",
    "    con=sql_conn,\n",
    "    if_exists=\"append\",\n",
    "    index=False\n",
    ")"
   ]
  },
  {
   "cell_type": "code",
   "execution_count": 150,
   "id": "25592576-f7fe-447b-994f-2314689e572d",
   "metadata": {},
   "outputs": [
    {
     "data": {
      "text/plain": [
       "207489"
      ]
     },
     "execution_count": 150,
     "metadata": {},
     "output_type": "execute_result"
    }
   ],
   "source": [
    "logs_kept = logs[\n",
    "    ['id_user', 'date', 'action', 'table_insert', 'id_ligne', 'champs', 'detail']\n",
    "    ].rename(\n",
    "    columns={\n",
    "        'table_insert': 'table_action', 'date': 'id_date'\n",
    "    })\n",
    "logs_kept.to_sql(\n",
    "    name=\"logs\",\n",
    "    con=sql_conn,\n",
    "    if_exists=\"append\",\n",
    "    index=False\n",
    ")"
   ]
  },
  {
   "attachments": {},
   "cell_type": "markdown",
   "id": "47835479-6f42-4ed9-9a7b-bb9845a5dbe4",
   "metadata": {},
   "source": [
    "---\n",
    "Q1: Chiffre d’affaires total pour les 14 Août et 15 août à partir des logs\n",
    "-\n",
    "---"
   ]
  },
  {
   "cell_type": "code",
   "execution_count": 171,
   "id": "0ed699a4-a892-4b09-b84d-a8172c7b50cd",
   "metadata": {},
   "outputs": [
    {
     "name": "stdout",
     "output_type": "stream",
     "text": [
      "Réponse => [('2024-08-14', 275186.59), ('2024-08-15', 9057.29), ('Total', 284243.88)]\n"
     ]
    }
   ],
   "source": [
    "cur.execute(\n",
    "    '''\n",
    "    WITH \"Id_dates\" AS (\n",
    "        SELECT id_date as le_14\n",
    "        FROM \"Calendrier\" WHERE annee=2024 AND mois=8 AND jour=14 \n",
    "    ),\n",
    "    \"Transactions_date_valeur_le_14\" AS (\n",
    "        SELECT o.id_date\n",
    "        FROM \"Logs\" o, \"Id_dates\" d\n",
    "        WHERE o.action='INSERT' AND o.table_action='Ventes' AND o.champs='Date' AND CAST(o.detail AS INT)=d.le_14\n",
    "        GROUP BY o.id_date\n",
    "    ),\n",
    "    \"Chiffres_affaires\" AS (\n",
    "        SELECT date('1899-12-30', '+' || t.id_date || ' days') AS date, ROUND(CAST(SUM(p.prix) AS NUMERIC), 2) AS ca\n",
    "        FROM \"Logs\" o, \"Produits\" p, \"Transactions_date_valeur_le_14\" t\n",
    "        WHERE o.action='INSERT'  AND o.table_action='Ventes' AND o.champs='EAN' AND o.detail=p.ean AND o.id_date=t.id_date\n",
    "        GROUP BY date\n",
    "        ORDER BY date\n",
    "    )\n",
    "    SELECT CAST(date as text) AS \"Date d'enregistrement\", ca AS \"Chiffre d’affaires enregistré pour le 14 août 2024\"\n",
    "    FROM \"Chiffres_affaires\"\n",
    "    UNION ALL\n",
    "    SELECT 'Total', SUM(ca)\n",
    "    FROM \"Chiffres_affaires\"\n",
    "    '''\n",
    ")\n",
    "res = cur.fetchall()\n",
    "print('Réponse =>', res)"
   ]
  },
  {
   "attachments": {},
   "cell_type": "markdown",
   "id": "bdb2fbcb-6efc-4b90-bd7d-22b5005a587e",
   "metadata": {},
   "source": [
    "---\n",
    "Q2: Chiffre d’affaires par client pour le top 10 des clients\n",
    "-\n",
    "---"
   ]
  },
  {
   "cell_type": "code",
   "execution_count": 174,
   "id": "ef6a2c68-bb39-4299-8ab5-04c6743c76c0",
   "metadata": {},
   "outputs": [
    {
     "name": "stdout",
     "output_type": "stream",
     "text": [
      "Réponse => [('CUST-JNSOZSFORR88', 846.86), ('CUST-GM6VBAYAB8SF', 666.86), ('CUST-L2ST2JHI7K9O', 644.18), ('CUST-WU7ZKQJE4L17', 608.93), ('CUST-9WM83101QDTI', 582.03), ('CUST-ZMAOVX8XYGJY', 576.39), ('CUST-3K66CV0OHH7Q', 571.44), ('CUST-CG23SXJDRNYR', 531.09), ('CUST-D8IOFHVUFX3Y', 477.35), ('CUST-IHN1HQRI7PYJ', 463.73)]\n"
     ]
    }
   ],
   "source": [
    "cur.execute(\n",
    "    '''\n",
    "    SELECT v.id_client, ROUND(SUM(p.prix), 2) AS ca_par_client\n",
    "    FROM calendrier c, ventes v, produits p\n",
    "    WHERE c.id_date=v.id_date\n",
    "                  AND v.ean=p.ean\n",
    "                  AND c.annee=2024\n",
    "                  AND c.jour=14\n",
    "                  AND c.mois=8\n",
    "    GROUP BY v.id_client\n",
    "    ORDER BY ca_par_client DESC LIMIT 10\n",
    "    '''\n",
    ")\n",
    "res = cur.fetchall()\n",
    "print('Réponse =>', res)"
   ]
  },
  {
   "attachments": {},
   "cell_type": "markdown",
   "id": "77027fd9-271e-4e70-9ceb-609fe8702336",
   "metadata": {},
   "source": [
    "---\n",
    "Q3: Chiffre d’affaires encaissé par employé\n",
    "-\n",
    "---"
   ]
  },
  {
   "cell_type": "code",
   "execution_count": 179,
   "id": "837c9b69-28f2-4519-bcff-0aadcac18af0",
   "metadata": {},
   "outputs": [
    {
     "name": "stdout",
     "output_type": "stream",
     "text": [
      "Réponse => [('A. Boulet', 7818.82), ('E. Jacquier', 7736.16), ('C. Delisle', 6995.14), ('P. Manoury', 6616.46), ('T. Arsenault', 6483.84), ('A. Dufresne', 6361.22), ('A. Dutertre', 6133.34), ('P. Ange', 6112.37), ('A. Lièvremont', 6111.18), ('P. Rodier', 6094.62), ('S. Deslys', 5989.84), ('C. Gachet', 5936.36), ('V. Baume', 5909.73), ('B. Cazal', 5827.75), ('I. Escoffier', 5734.83), ('É. Blanchard', 5705.28), ('U. Chevalier', 5567.78), ('S. Giraud', 5557.84), ('A. Donnet', 5513.15), ('S. Jacquet', 5490.3), ('S. Pélissier', 5490.26), ('J. Courbet', 5450.27), ('E. Grosjean', 5363.58), ('V. Genet', 5345.16), ('Y. Grinda', 5315.51), ('A. Marchal', 5220.68), ('M. Rochefort', 5187.41), ('G. Granet', 5187.01), ('J. Auch', 5146.52), ('A. Besson', 5128.45), ('A. Coquelin', 5013.37), ('L. Maret', 4941.48), ('V. Jacquier', 4775.66), ('R. Rémy', 4658.91), ('M. Poincaré', 4638.77), ('G. Bonhomme', 4621.61), ('C. Vérany', 4613.51), ('P. Beaumont', 4597.93), ('L. Boissonade', 4577.33), ('N. Picard', 4512.28), ('B. Boutroux', 4426.2), ('J. Beauvau', 4410.01), ('C. Morin', 4395.59), ('S. Valluy', 4333.48), ('A. Bruneau', 4232.0), ('J. Leloup', 4223.81), ('L. Rochefort', 4150.37), ('D. Courtet', 3902.65), ('A. Vannier', 3852.21), ('S. Grosjean', 3851.0), ('N. Frère', 3728.54), ('E. Lussier', 3558.79), ('D. Cazenave', 3170.83), ('É. Bissonnette', 3001.75), ('J. Vasseur', 2798.76), ('R. Bechard', 2726.18)]\n"
     ]
    }
   ],
   "source": [
    "cur.execute(\n",
    "    '''\n",
    "    WITH ca_par_employe AS (\n",
    "                SELECT v.id_employe AS id_employe, ROUND(SUM(p.prix), 2) AS ca\n",
    "                FROM calendrier c, ventes v, produits p\n",
    "                WHERE c.id_date=v.id_date\n",
    "                      AND v.ean=p.ean\n",
    "                      AND c.annee=2024\n",
    "                      AND c.jour=14\n",
    "                      AND c.mois=8\n",
    "                GROUP BY v.id_employe\n",
    "                ORDER BY ca DESC\n",
    "    ) \n",
    "    SELECT CONCAT(SUBSTR(e.prenom,1,1),'. ',e.nom), cpe.ca\n",
    "    FROM employes e, ca_par_employe cpe\n",
    "    WHERE e.id_employe=cpe.id_employe\n",
    "    '''\n",
    ")\n",
    "res = cur.fetchall()\n",
    "print('Réponse =>', res)"
   ]
  },
  {
   "cell_type": "markdown",
   "id": "9b6514e8-6790-45d4-8fa2-33a0badacd0f",
   "metadata": {},
   "source": [
    "---\n",
    "**Nettoyage**\n",
    "\n",
    "---"
   ]
  },
  {
   "cell_type": "code",
   "execution_count": 130,
   "id": "377bbd2c-9a9a-43a7-8c55-65c197613bc7",
   "metadata": {},
   "outputs": [],
   "source": [
    "# Fermeture de la connexion DB\n",
    "sql_conn.close()\n",
    "# Suppression du dossier temporaire\n",
    "tmpdir.cleanup()"
   ]
  },
  {
   "cell_type": "code",
   "execution_count": null,
   "id": "f146e96d-45a7-4da0-ac1c-67eff88d76a4",
   "metadata": {},
   "outputs": [],
   "source": []
  }
 ],
 "metadata": {
  "kernelspec": {
   "display_name": "Python [conda env:base] *",
   "language": "python",
   "name": "conda-base-py"
  },
  "language_info": {
   "codemirror_mode": {
    "name": "ipython",
    "version": 3
   },
   "file_extension": ".py",
   "mimetype": "text/x-python",
   "name": "python",
   "nbconvert_exporter": "python",
   "pygments_lexer": "ipython3",
   "version": "3.12.7"
  }
 },
 "nbformat": 4,
 "nbformat_minor": 5
}
